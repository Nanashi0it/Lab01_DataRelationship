{
 "cells": [
  {
   "cell_type": "markdown",
   "metadata": {},
   "source": [
    "# Thư viện"
   ]
  },
  {
   "cell_type": "code",
   "execution_count": 13,
   "metadata": {},
   "outputs": [],
   "source": [
    "import pandas as pd"
   ]
  },
  {
   "cell_type": "markdown",
   "metadata": {},
   "source": [
    "# Tiền xử lý dữ liệu"
   ]
  },
  {
   "cell_type": "code",
   "execution_count": 14,
   "metadata": {},
   "outputs": [
    {
     "name": "stdout",
     "output_type": "stream",
     "text": [
      "<class 'pandas.core.frame.DataFrame'>\n",
      "RangeIndex: 228 entries, 0 to 227\n",
      "Data columns (total 15 columns):\n",
      " #   Column            Non-Null Count  Dtype  \n",
      "---  ------            --------------  -----  \n",
      " 0   Country,Other     228 non-null    object \n",
      " 1   TotalCases        228 non-null    int64  \n",
      " 2   NewCases          108 non-null    float64\n",
      " 3   TotalDeaths       219 non-null    float64\n",
      " 4   NewDeaths         60 non-null     float64\n",
      " 5   TotalRecovered    213 non-null    float64\n",
      " 6   NewRecovered      90 non-null     float64\n",
      " 7   ActiveCases       213 non-null    float64\n",
      " 8   Serious,Critical  151 non-null    float64\n",
      " 9   Tot Cases/1M pop  226 non-null    float64\n",
      " 10  Deaths/1M pop     217 non-null    float64\n",
      " 11  TotalTests        212 non-null    float64\n",
      " 12  Tests/ 1M pop     212 non-null    float64\n",
      " 13  Population        226 non-null    float64\n",
      " 14  Continent         226 non-null    object \n",
      "dtypes: float64(12), int64(1), object(2)\n",
      "memory usage: 26.8+ KB\n"
     ]
    }
   ],
   "source": [
    "# Load dữ liệu\n",
    "covid19_statistics_df = pd.read_csv('./Data/Covid19_Statistics_24_04_2022.csv')\n",
    "covid19_statistics_df.info()"
   ]
  },
  {
   "cell_type": "code",
   "execution_count": 15,
   "metadata": {},
   "outputs": [
    {
     "data": {
      "text/html": [
       "<div>\n",
       "<style scoped>\n",
       "    .dataframe tbody tr th:only-of-type {\n",
       "        vertical-align: middle;\n",
       "    }\n",
       "\n",
       "    .dataframe tbody tr th {\n",
       "        vertical-align: top;\n",
       "    }\n",
       "\n",
       "    .dataframe thead th {\n",
       "        text-align: right;\n",
       "    }\n",
       "</style>\n",
       "<table border=\"1\" class=\"dataframe\">\n",
       "  <thead>\n",
       "    <tr style=\"text-align: right;\">\n",
       "      <th></th>\n",
       "      <th>Country,Other</th>\n",
       "      <th>TotalCases</th>\n",
       "      <th>NewCases</th>\n",
       "      <th>TotalDeaths</th>\n",
       "      <th>NewDeaths</th>\n",
       "      <th>TotalRecovered</th>\n",
       "      <th>NewRecovered</th>\n",
       "      <th>ActiveCases</th>\n",
       "      <th>Serious,Critical</th>\n",
       "      <th>Tot Cases/1M pop</th>\n",
       "      <th>Deaths/1M pop</th>\n",
       "      <th>TotalTests</th>\n",
       "      <th>Tests/ 1M pop</th>\n",
       "      <th>Population</th>\n",
       "      <th>Continent</th>\n",
       "    </tr>\n",
       "  </thead>\n",
       "  <tbody>\n",
       "    <tr>\n",
       "      <th>0</th>\n",
       "      <td>China</td>\n",
       "      <td>200654</td>\n",
       "      <td>1580.0</td>\n",
       "      <td>4725.0</td>\n",
       "      <td>39.0</td>\n",
       "      <td>166398.0</td>\n",
       "      <td>2672.0</td>\n",
       "      <td>29531.0</td>\n",
       "      <td>236.0</td>\n",
       "      <td>139.0</td>\n",
       "      <td>3.0</td>\n",
       "      <td>1.600000e+08</td>\n",
       "      <td>111163.0</td>\n",
       "      <td>1.439324e+09</td>\n",
       "      <td>Asia</td>\n",
       "    </tr>\n",
       "    <tr>\n",
       "      <th>1</th>\n",
       "      <td>USA</td>\n",
       "      <td>82698955</td>\n",
       "      <td>28904.0</td>\n",
       "      <td>1018441.0</td>\n",
       "      <td>50.0</td>\n",
       "      <td>80465351.0</td>\n",
       "      <td>30438.0</td>\n",
       "      <td>1215163.0</td>\n",
       "      <td>1426.0</td>\n",
       "      <td>247219.0</td>\n",
       "      <td>3045.0</td>\n",
       "      <td>1.000491e+09</td>\n",
       "      <td>2990853.0</td>\n",
       "      <td>3.345170e+08</td>\n",
       "      <td>North America</td>\n",
       "    </tr>\n",
       "    <tr>\n",
       "      <th>2</th>\n",
       "      <td>India</td>\n",
       "      <td>43060086</td>\n",
       "      <td>2541.0</td>\n",
       "      <td>522223.0</td>\n",
       "      <td>30.0</td>\n",
       "      <td>42521341.0</td>\n",
       "      <td>1862.0</td>\n",
       "      <td>16522.0</td>\n",
       "      <td>698.0</td>\n",
       "      <td>30657.0</td>\n",
       "      <td>372.0</td>\n",
       "      <td>8.347177e+08</td>\n",
       "      <td>594287.0</td>\n",
       "      <td>1.404569e+09</td>\n",
       "      <td>Asia</td>\n",
       "    </tr>\n",
       "    <tr>\n",
       "      <th>3</th>\n",
       "      <td>Brazil</td>\n",
       "      <td>30349463</td>\n",
       "      <td>3809.0</td>\n",
       "      <td>662701.0</td>\n",
       "      <td>38.0</td>\n",
       "      <td>29384354.0</td>\n",
       "      <td>19954.0</td>\n",
       "      <td>302408.0</td>\n",
       "      <td>8318.0</td>\n",
       "      <td>140967.0</td>\n",
       "      <td>3078.0</td>\n",
       "      <td>6.377617e+07</td>\n",
       "      <td>296227.0</td>\n",
       "      <td>2.152952e+08</td>\n",
       "      <td>South America</td>\n",
       "    </tr>\n",
       "    <tr>\n",
       "      <th>4</th>\n",
       "      <td>France</td>\n",
       "      <td>28303931</td>\n",
       "      <td>58954.0</td>\n",
       "      <td>145060.0</td>\n",
       "      <td>40.0</td>\n",
       "      <td>25880480.0</td>\n",
       "      <td>27573.0</td>\n",
       "      <td>2278391.0</td>\n",
       "      <td>1677.0</td>\n",
       "      <td>431890.0</td>\n",
       "      <td>2213.0</td>\n",
       "      <td>2.664840e+08</td>\n",
       "      <td>4066284.0</td>\n",
       "      <td>6.553503e+07</td>\n",
       "      <td>Europe</td>\n",
       "    </tr>\n",
       "  </tbody>\n",
       "</table>\n",
       "</div>"
      ],
      "text/plain": [
       "  Country,Other  TotalCases  NewCases  TotalDeaths  NewDeaths  TotalRecovered  \\\n",
       "0         China      200654    1580.0       4725.0       39.0        166398.0   \n",
       "1           USA    82698955   28904.0    1018441.0       50.0      80465351.0   \n",
       "2         India    43060086    2541.0     522223.0       30.0      42521341.0   \n",
       "3        Brazil    30349463    3809.0     662701.0       38.0      29384354.0   \n",
       "4        France    28303931   58954.0     145060.0       40.0      25880480.0   \n",
       "\n",
       "   NewRecovered  ActiveCases  Serious,Critical  Tot Cases/1M pop  \\\n",
       "0        2672.0      29531.0             236.0             139.0   \n",
       "1       30438.0    1215163.0            1426.0          247219.0   \n",
       "2        1862.0      16522.0             698.0           30657.0   \n",
       "3       19954.0     302408.0            8318.0          140967.0   \n",
       "4       27573.0    2278391.0            1677.0          431890.0   \n",
       "\n",
       "   Deaths/1M pop    TotalTests  Tests/ 1M pop    Population      Continent  \n",
       "0            3.0  1.600000e+08       111163.0  1.439324e+09           Asia  \n",
       "1         3045.0  1.000491e+09      2990853.0  3.345170e+08  North America  \n",
       "2          372.0  8.347177e+08       594287.0  1.404569e+09           Asia  \n",
       "3         3078.0  6.377617e+07       296227.0  2.152952e+08  South America  \n",
       "4         2213.0  2.664840e+08      4066284.0  6.553503e+07         Europe  "
      ]
     },
     "execution_count": 15,
     "metadata": {},
     "output_type": "execute_result"
    }
   ],
   "source": [
    "covid19_statistics_df.head()"
   ]
  },
  {
   "cell_type": "code",
   "execution_count": 16,
   "metadata": {},
   "outputs": [
    {
     "data": {
      "text/plain": [
       "(228, 15)"
      ]
     },
     "execution_count": 16,
     "metadata": {},
     "output_type": "execute_result"
    }
   ],
   "source": [
    "# Kích thước tập dữ liệu\n",
    "covid19_statistics_df.shape"
   ]
  },
  {
   "cell_type": "code",
   "execution_count": 17,
   "metadata": {},
   "outputs": [
    {
     "data": {
      "text/plain": [
       "0"
      ]
     },
     "execution_count": 17,
     "metadata": {},
     "output_type": "execute_result"
    }
   ],
   "source": [
    "# Kiểm tra dữ liệu có bị lặp?\n",
    "covid19_statistics_df.duplicated().sum()"
   ]
  },
  {
   "cell_type": "code",
   "execution_count": 18,
   "metadata": {},
   "outputs": [
    {
     "data": {
      "text/plain": [
       "Country,Other         0\n",
       "TotalCases            0\n",
       "NewCases            120\n",
       "TotalDeaths           9\n",
       "NewDeaths           168\n",
       "TotalRecovered       15\n",
       "NewRecovered        138\n",
       "ActiveCases          15\n",
       "Serious,Critical     77\n",
       "Tot Cases/1M pop      2\n",
       "Deaths/1M pop        11\n",
       "TotalTests           16\n",
       "Tests/ 1M pop        16\n",
       "Population            2\n",
       "Continent             2\n",
       "dtype: int64"
      ]
     },
     "execution_count": 18,
     "metadata": {},
     "output_type": "execute_result"
    }
   ],
   "source": [
    "# Kiểm tra dữ liệu có bị thiếu?\n",
    "covid19_statistics_df.isna().sum()"
   ]
  }
 ],
 "metadata": {
  "interpreter": {
   "hash": "cd8ac7ed5329ff1f59a8356dfddf06d159cf18414acbfd7b13d1d5cd1cbb5d7d"
  },
  "kernelspec": {
   "display_name": "Python 3.8.8 ('base')",
   "language": "python",
   "name": "python3"
  },
  "language_info": {
   "codemirror_mode": {
    "name": "ipython",
    "version": 3
   },
   "file_extension": ".py",
   "mimetype": "text/x-python",
   "name": "python",
   "nbconvert_exporter": "python",
   "pygments_lexer": "ipython3",
   "version": "3.8.8"
  },
  "orig_nbformat": 4
 },
 "nbformat": 4,
 "nbformat_minor": 2
}
